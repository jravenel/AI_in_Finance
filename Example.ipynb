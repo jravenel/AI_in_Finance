{
  "nbformat": 4,
  "nbformat_minor": 0,
  "metadata": {
    "colab": {
      "name": "Example.ipynb",
      "provenance": [],
      "authorship_tag": "ABX9TyNvOvxmMF08QZx1FIteWBGe",
      "include_colab_link": true
    },
    "kernelspec": {
      "name": "python3",
      "display_name": "Python 3"
    }
  },
  "cells": [
    {
      "cell_type": "markdown",
      "metadata": {
        "id": "view-in-github",
        "colab_type": "text"
      },
      "source": [
        "<a href=\"https://colab.research.google.com/github/jravenel/AI_in_Finance/blob/master/Example.ipynb\" target=\"_parent\"><img src=\"https://colab.research.google.com/assets/colab-badge.svg\" alt=\"Open In Colab\"/></a>"
      ]
    },
    {
      "cell_type": "markdown",
      "metadata": {
        "id": "Jm4V5UZMvn8K",
        "colab_type": "text"
      },
      "source": [
        "<img src=\"https://cashstory.com/_nuxt/img/8259e1b.png\" alt=\"drawing\" width=\"200\" align='left'/>\n",
        "<br>"
      ]
    },
    {
      "cell_type": "markdown",
      "metadata": {
        "id": "g-8m38fV3K3l",
        "colab_type": "text"
      },
      "source": [
        "**Example 1 : get stock data from Quandl (data agregator)**"
      ]
    },
    {
      "cell_type": "markdown",
      "metadata": {
        "id": "IutcWsSg3RFr",
        "colab_type": "text"
      },
      "source": [
        "**Step 1** : Import librairies"
      ]
    },
    {
      "cell_type": "code",
      "metadata": {
        "id": "x_pOunb4v4-o",
        "colab_type": "code",
        "colab": {}
      },
      "source": [
        "import pandas as pd\n",
        "import os "
      ],
      "execution_count": 0,
      "outputs": []
    },
    {
      "cell_type": "markdown",
      "metadata": {
        "id": "xD97nhr13Uxm",
        "colab_type": "text"
      },
      "source": [
        "**Step 2** : Read CSV with pandas"
      ]
    },
    {
      "cell_type": "code",
      "metadata": {
        "id": "cOZm-UoFv-y6",
        "colab_type": "code",
        "outputId": "3c83d18e-4732-48a0-9f4f-96e0f7135ec7",
        "colab": {
          "base_uri": "https://localhost:8080/",
          "height": 415
        }
      },
      "source": [
        "data = pd.read_csv('https://www.quandl.com/api/v3/datasets/BITFINEX/BTCUSD.csv?api_key=bxrSXWimkiknuCcV71uL')\n",
        "data"
      ],
      "execution_count": 0,
      "outputs": [
        {
          "output_type": "execute_result",
          "data": {
            "text/html": [
              "<div>\n",
              "<style scoped>\n",
              "    .dataframe tbody tr th:only-of-type {\n",
              "        vertical-align: middle;\n",
              "    }\n",
              "\n",
              "    .dataframe tbody tr th {\n",
              "        vertical-align: top;\n",
              "    }\n",
              "\n",
              "    .dataframe thead th {\n",
              "        text-align: right;\n",
              "    }\n",
              "</style>\n",
              "<table border=\"1\" class=\"dataframe\">\n",
              "  <thead>\n",
              "    <tr style=\"text-align: right;\">\n",
              "      <th></th>\n",
              "      <th>Date</th>\n",
              "      <th>High</th>\n",
              "      <th>Low</th>\n",
              "      <th>Mid</th>\n",
              "      <th>Last</th>\n",
              "      <th>Bid</th>\n",
              "      <th>Ask</th>\n",
              "      <th>Volume</th>\n",
              "    </tr>\n",
              "  </thead>\n",
              "  <tbody>\n",
              "    <tr>\n",
              "      <th>0</th>\n",
              "      <td>2020-04-12</td>\n",
              "      <td>7192.5000</td>\n",
              "      <td>6797.600000</td>\n",
              "      <td>7016.30000</td>\n",
              "      <td>7015.786405</td>\n",
              "      <td>7015.7000</td>\n",
              "      <td>7016.90</td>\n",
              "      <td>8487.859686</td>\n",
              "    </tr>\n",
              "    <tr>\n",
              "      <th>1</th>\n",
              "      <td>2020-04-11</td>\n",
              "      <td>6957.8000</td>\n",
              "      <td>6780.000000</td>\n",
              "      <td>6857.65000</td>\n",
              "      <td>6858.300000</td>\n",
              "      <td>6857.3000</td>\n",
              "      <td>6858.00</td>\n",
              "      <td>4034.223033</td>\n",
              "    </tr>\n",
              "    <tr>\n",
              "      <th>2</th>\n",
              "      <td>2020-04-10</td>\n",
              "      <td>7320.8000</td>\n",
              "      <td>6756.300000</td>\n",
              "      <td>6836.85000</td>\n",
              "      <td>6836.900000</td>\n",
              "      <td>6836.8000</td>\n",
              "      <td>6836.90</td>\n",
              "      <td>15789.162262</td>\n",
              "    </tr>\n",
              "    <tr>\n",
              "      <th>3</th>\n",
              "      <td>2020-04-09</td>\n",
              "      <td>7390.2000</td>\n",
              "      <td>7117.000000</td>\n",
              "      <td>7312.75000</td>\n",
              "      <td>7312.700000</td>\n",
              "      <td>7312.7000</td>\n",
              "      <td>7312.80</td>\n",
              "      <td>7743.279454</td>\n",
              "    </tr>\n",
              "    <tr>\n",
              "      <th>4</th>\n",
              "      <td>2020-04-08</td>\n",
              "      <td>7420.0000</td>\n",
              "      <td>7151.644912</td>\n",
              "      <td>7354.05000</td>\n",
              "      <td>7354.100000</td>\n",
              "      <td>7354.0000</td>\n",
              "      <td>7354.10</td>\n",
              "      <td>8050.965012</td>\n",
              "    </tr>\n",
              "    <tr>\n",
              "      <th>...</th>\n",
              "      <td>...</td>\n",
              "      <td>...</td>\n",
              "      <td>...</td>\n",
              "      <td>...</td>\n",
              "      <td>...</td>\n",
              "      <td>...</td>\n",
              "      <td>...</td>\n",
              "      <td>...</td>\n",
              "    </tr>\n",
              "    <tr>\n",
              "      <th>2139</th>\n",
              "      <td>2014-04-19</td>\n",
              "      <td>513.9899</td>\n",
              "      <td>473.830000</td>\n",
              "      <td>505.01065</td>\n",
              "      <td>507.499900</td>\n",
              "      <td>502.5313</td>\n",
              "      <td>507.49</td>\n",
              "      <td>8963.618369</td>\n",
              "    </tr>\n",
              "    <tr>\n",
              "      <th>2140</th>\n",
              "      <td>2014-04-18</td>\n",
              "      <td>509.0000</td>\n",
              "      <td>474.250000</td>\n",
              "      <td>483.77000</td>\n",
              "      <td>482.750000</td>\n",
              "      <td>482.7500</td>\n",
              "      <td>484.79</td>\n",
              "      <td>10458.045243</td>\n",
              "    </tr>\n",
              "    <tr>\n",
              "      <th>2141</th>\n",
              "      <td>2014-04-17</td>\n",
              "      <td>538.5000</td>\n",
              "      <td>486.100000</td>\n",
              "      <td>507.02000</td>\n",
              "      <td>508.000000</td>\n",
              "      <td>506.0400</td>\n",
              "      <td>508.00</td>\n",
              "      <td>20709.783819</td>\n",
              "    </tr>\n",
              "    <tr>\n",
              "      <th>2142</th>\n",
              "      <td>2014-04-16</td>\n",
              "      <td>547.0000</td>\n",
              "      <td>495.000000</td>\n",
              "      <td>537.50000</td>\n",
              "      <td>538.000000</td>\n",
              "      <td>537.0000</td>\n",
              "      <td>538.00</td>\n",
              "      <td>29633.358705</td>\n",
              "    </tr>\n",
              "    <tr>\n",
              "      <th>2143</th>\n",
              "      <td>2014-04-15</td>\n",
              "      <td>513.9000</td>\n",
              "      <td>452.000000</td>\n",
              "      <td>504.23500</td>\n",
              "      <td>505.000000</td>\n",
              "      <td>503.5000</td>\n",
              "      <td>504.97</td>\n",
              "      <td>21013.584774</td>\n",
              "    </tr>\n",
              "  </tbody>\n",
              "</table>\n",
              "<p>2144 rows × 8 columns</p>\n",
              "</div>"
            ],
            "text/plain": [
              "            Date       High          Low  ...        Bid      Ask        Volume\n",
              "0     2020-04-12  7192.5000  6797.600000  ...  7015.7000  7016.90   8487.859686\n",
              "1     2020-04-11  6957.8000  6780.000000  ...  6857.3000  6858.00   4034.223033\n",
              "2     2020-04-10  7320.8000  6756.300000  ...  6836.8000  6836.90  15789.162262\n",
              "3     2020-04-09  7390.2000  7117.000000  ...  7312.7000  7312.80   7743.279454\n",
              "4     2020-04-08  7420.0000  7151.644912  ...  7354.0000  7354.10   8050.965012\n",
              "...          ...        ...          ...  ...        ...      ...           ...\n",
              "2139  2014-04-19   513.9899   473.830000  ...   502.5313   507.49   8963.618369\n",
              "2140  2014-04-18   509.0000   474.250000  ...   482.7500   484.79  10458.045243\n",
              "2141  2014-04-17   538.5000   486.100000  ...   506.0400   508.00  20709.783819\n",
              "2142  2014-04-16   547.0000   495.000000  ...   537.0000   538.00  29633.358705\n",
              "2143  2014-04-15   513.9000   452.000000  ...   503.5000   504.97  21013.584774\n",
              "\n",
              "[2144 rows x 8 columns]"
            ]
          },
          "metadata": {
            "tags": []
          },
          "execution_count": 11
        }
      ]
    },
    {
      "cell_type": "markdown",
      "metadata": {
        "id": "Bqt9_5OK3Yyl",
        "colab_type": "text"
      },
      "source": [
        "**Step 3** : Import librairy to visualize & plot chart"
      ]
    },
    {
      "cell_type": "code",
      "metadata": {
        "id": "Jolb4oNv2ucC",
        "colab_type": "code",
        "colab": {}
      },
      "source": [
        "import matplotlib.pyplot as plt\n",
        "%matplotlib inline"
      ],
      "execution_count": 0,
      "outputs": []
    },
    {
      "cell_type": "code",
      "metadata": {
        "id": "BGwMqP052zqE",
        "colab_type": "code",
        "outputId": "47dc8d9c-e789-4666-8d60-ab6a1c85b661",
        "colab": {
          "base_uri": "https://localhost:8080/",
          "height": 283
        }
      },
      "source": [
        "data.plot()"
      ],
      "execution_count": 0,
      "outputs": [
        {
          "output_type": "execute_result",
          "data": {
            "text/plain": [
              "<matplotlib.axes._subplots.AxesSubplot at 0x7f174dfeac18>"
            ]
          },
          "metadata": {
            "tags": []
          },
          "execution_count": 13
        },
        {
          "output_type": "display_data",
          "data": {
            "image/png": "[encoded data removed]",
            "text/plain": [
              "<Figure size 432x288 with 1 Axes>"
            ]
          },
          "metadata": {
            "tags": [],
            "needs_background": "light"
          }
        }
      ]
    }
  ]
}